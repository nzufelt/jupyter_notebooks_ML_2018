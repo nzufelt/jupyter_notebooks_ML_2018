{
 "cells": [
  {
   "cell_type": "markdown",
   "metadata": {},
   "source": [
    "# Missing Data\n",
    "\n",
    "In this notebook, we explore some of the ways that we might choose to work with those situations where data is missing from our data sets. Here, we're exploring a [\"food preferences\" dataset](https://openmv.net/info/food-consumption), that doesn't have much of a background on its website. \n",
    "\n",
    "It's worth noting that if this were a notebook whose primary purpose was exploring this particular data set, it would be on us at this time to do some more work into researching the origins of this data set and how it came into existence."
   ]
  },
  {
   "cell_type": "code",
   "execution_count": 1,
   "metadata": {},
   "outputs": [
    {
     "data": {
      "text/html": [
       "<div>\n",
       "<style scoped>\n",
       "    .dataframe tbody tr th:only-of-type {\n",
       "        vertical-align: middle;\n",
       "    }\n",
       "\n",
       "    .dataframe tbody tr th {\n",
       "        vertical-align: top;\n",
       "    }\n",
       "\n",
       "    .dataframe thead th {\n",
       "        text-align: right;\n",
       "    }\n",
       "</style>\n",
       "<table border=\"1\" class=\"dataframe\">\n",
       "  <thead>\n",
       "    <tr style=\"text-align: right;\">\n",
       "      <th></th>\n",
       "      <th>Country</th>\n",
       "      <th>Real coffee</th>\n",
       "      <th>Instant coffee</th>\n",
       "      <th>Tea</th>\n",
       "      <th>Sweetener</th>\n",
       "      <th>Biscuits</th>\n",
       "      <th>Powder soup</th>\n",
       "      <th>Tin soup</th>\n",
       "      <th>Potatoes</th>\n",
       "      <th>Frozen fish</th>\n",
       "      <th>...</th>\n",
       "      <th>Apples</th>\n",
       "      <th>Oranges</th>\n",
       "      <th>Tinned fruit</th>\n",
       "      <th>Jam</th>\n",
       "      <th>Garlic</th>\n",
       "      <th>Butter</th>\n",
       "      <th>Margarine</th>\n",
       "      <th>Olive oil</th>\n",
       "      <th>Yoghurt</th>\n",
       "      <th>Crisp bread</th>\n",
       "    </tr>\n",
       "  </thead>\n",
       "  <tbody>\n",
       "    <tr>\n",
       "      <th>0</th>\n",
       "      <td>Germany</td>\n",
       "      <td>90</td>\n",
       "      <td>49</td>\n",
       "      <td>88</td>\n",
       "      <td>19.0</td>\n",
       "      <td>57.0</td>\n",
       "      <td>51</td>\n",
       "      <td>19</td>\n",
       "      <td>21</td>\n",
       "      <td>27</td>\n",
       "      <td>...</td>\n",
       "      <td>81</td>\n",
       "      <td>75</td>\n",
       "      <td>44</td>\n",
       "      <td>71</td>\n",
       "      <td>22</td>\n",
       "      <td>91</td>\n",
       "      <td>85</td>\n",
       "      <td>74</td>\n",
       "      <td>30.0</td>\n",
       "      <td>26</td>\n",
       "    </tr>\n",
       "    <tr>\n",
       "      <th>1</th>\n",
       "      <td>Italy</td>\n",
       "      <td>82</td>\n",
       "      <td>10</td>\n",
       "      <td>60</td>\n",
       "      <td>2.0</td>\n",
       "      <td>55.0</td>\n",
       "      <td>41</td>\n",
       "      <td>3</td>\n",
       "      <td>2</td>\n",
       "      <td>4</td>\n",
       "      <td>...</td>\n",
       "      <td>67</td>\n",
       "      <td>71</td>\n",
       "      <td>9</td>\n",
       "      <td>46</td>\n",
       "      <td>80</td>\n",
       "      <td>66</td>\n",
       "      <td>24</td>\n",
       "      <td>94</td>\n",
       "      <td>5.0</td>\n",
       "      <td>18</td>\n",
       "    </tr>\n",
       "    <tr>\n",
       "      <th>2</th>\n",
       "      <td>France</td>\n",
       "      <td>88</td>\n",
       "      <td>42</td>\n",
       "      <td>63</td>\n",
       "      <td>4.0</td>\n",
       "      <td>76.0</td>\n",
       "      <td>53</td>\n",
       "      <td>11</td>\n",
       "      <td>23</td>\n",
       "      <td>11</td>\n",
       "      <td>...</td>\n",
       "      <td>87</td>\n",
       "      <td>84</td>\n",
       "      <td>40</td>\n",
       "      <td>45</td>\n",
       "      <td>88</td>\n",
       "      <td>94</td>\n",
       "      <td>47</td>\n",
       "      <td>36</td>\n",
       "      <td>57.0</td>\n",
       "      <td>3</td>\n",
       "    </tr>\n",
       "    <tr>\n",
       "      <th>3</th>\n",
       "      <td>Holland</td>\n",
       "      <td>96</td>\n",
       "      <td>62</td>\n",
       "      <td>98</td>\n",
       "      <td>32.0</td>\n",
       "      <td>62.0</td>\n",
       "      <td>67</td>\n",
       "      <td>43</td>\n",
       "      <td>7</td>\n",
       "      <td>14</td>\n",
       "      <td>...</td>\n",
       "      <td>83</td>\n",
       "      <td>89</td>\n",
       "      <td>61</td>\n",
       "      <td>81</td>\n",
       "      <td>15</td>\n",
       "      <td>31</td>\n",
       "      <td>97</td>\n",
       "      <td>13</td>\n",
       "      <td>53.0</td>\n",
       "      <td>15</td>\n",
       "    </tr>\n",
       "    <tr>\n",
       "      <th>4</th>\n",
       "      <td>Belgium</td>\n",
       "      <td>94</td>\n",
       "      <td>38</td>\n",
       "      <td>48</td>\n",
       "      <td>11.0</td>\n",
       "      <td>74.0</td>\n",
       "      <td>37</td>\n",
       "      <td>23</td>\n",
       "      <td>9</td>\n",
       "      <td>13</td>\n",
       "      <td>...</td>\n",
       "      <td>76</td>\n",
       "      <td>76</td>\n",
       "      <td>42</td>\n",
       "      <td>57</td>\n",
       "      <td>29</td>\n",
       "      <td>84</td>\n",
       "      <td>80</td>\n",
       "      <td>83</td>\n",
       "      <td>20.0</td>\n",
       "      <td>5</td>\n",
       "    </tr>\n",
       "  </tbody>\n",
       "</table>\n",
       "<p>5 rows × 21 columns</p>\n",
       "</div>"
      ],
      "text/plain": [
       "   Country  Real coffee  Instant coffee  Tea  Sweetener  Biscuits  \\\n",
       "0  Germany           90              49   88       19.0      57.0   \n",
       "1    Italy           82              10   60        2.0      55.0   \n",
       "2   France           88              42   63        4.0      76.0   \n",
       "3  Holland           96              62   98       32.0      62.0   \n",
       "4  Belgium           94              38   48       11.0      74.0   \n",
       "\n",
       "   Powder soup  Tin soup  Potatoes  Frozen fish  ...  Apples  Oranges  \\\n",
       "0           51        19        21           27  ...      81       75   \n",
       "1           41         3         2            4  ...      67       71   \n",
       "2           53        11        23           11  ...      87       84   \n",
       "3           67        43         7           14  ...      83       89   \n",
       "4           37        23         9           13  ...      76       76   \n",
       "\n",
       "   Tinned fruit  Jam  Garlic  Butter  Margarine  Olive oil  Yoghurt  \\\n",
       "0            44   71      22      91         85         74     30.0   \n",
       "1             9   46      80      66         24         94      5.0   \n",
       "2            40   45      88      94         47         36     57.0   \n",
       "3            61   81      15      31         97         13     53.0   \n",
       "4            42   57      29      84         80         83     20.0   \n",
       "\n",
       "   Crisp bread  \n",
       "0           26  \n",
       "1           18  \n",
       "2            3  \n",
       "3           15  \n",
       "4            5  \n",
       "\n",
       "[5 rows x 21 columns]"
      ]
     },
     "execution_count": 1,
     "metadata": {},
     "output_type": "execute_result"
    }
   ],
   "source": [
    "import numpy as np\n",
    "import pandas as pd\n",
    "import matplotlib.pyplot as plt\n",
    "%matplotlib inline\n",
    "from sklearn.linear_model import LinearRegression\n",
    "\n",
    "from os import path\n",
    "datapath = path.join('..', 'data', 'food-consumption.csv')\n",
    "df = pd.read_csv(datapath)\n",
    "\n",
    "df.head()"
   ]
  },
  {
   "cell_type": "markdown",
   "metadata": {},
   "source": [
    "## Finding missing data\n",
    "\n",
    "First, we can use some tools to find which data is missing."
   ]
  },
  {
   "cell_type": "code",
   "execution_count": 2,
   "metadata": {},
   "outputs": [
    {
     "data": {
      "text/plain": [
       "Index(['Sweetener', 'Biscuits', 'Yoghurt'], dtype='object')"
      ]
     },
     "execution_count": 2,
     "metadata": {},
     "output_type": "execute_result"
    }
   ],
   "source": [
    "# Which columns have any \"NaN\" entries?\n",
    "df.columns[df.isna().any()]"
   ]
  },
  {
   "cell_type": "markdown",
   "metadata": {},
   "source": [
    "So, there are three columns with missing values. Let's take a look at those rows as well that have missing data. Do the same observations have missing \"Yoghurt\" and \"Biscuits\", for example? Or are the different missing values occuring in different missing rows?"
   ]
  },
  {
   "cell_type": "code",
   "execution_count": 3,
   "metadata": {},
   "outputs": [
    {
     "data": {
      "text/html": [
       "<div>\n",
       "<style scoped>\n",
       "    .dataframe tbody tr th:only-of-type {\n",
       "        vertical-align: middle;\n",
       "    }\n",
       "\n",
       "    .dataframe tbody tr th {\n",
       "        vertical-align: top;\n",
       "    }\n",
       "\n",
       "    .dataframe thead th {\n",
       "        text-align: right;\n",
       "    }\n",
       "</style>\n",
       "<table border=\"1\" class=\"dataframe\">\n",
       "  <thead>\n",
       "    <tr style=\"text-align: right;\">\n",
       "      <th></th>\n",
       "      <th>Country</th>\n",
       "      <th>Real coffee</th>\n",
       "      <th>Instant coffee</th>\n",
       "      <th>Tea</th>\n",
       "      <th>Sweetener</th>\n",
       "      <th>Biscuits</th>\n",
       "      <th>Powder soup</th>\n",
       "      <th>Tin soup</th>\n",
       "      <th>Potatoes</th>\n",
       "      <th>Frozen fish</th>\n",
       "      <th>...</th>\n",
       "      <th>Apples</th>\n",
       "      <th>Oranges</th>\n",
       "      <th>Tinned fruit</th>\n",
       "      <th>Jam</th>\n",
       "      <th>Garlic</th>\n",
       "      <th>Butter</th>\n",
       "      <th>Margarine</th>\n",
       "      <th>Olive oil</th>\n",
       "      <th>Yoghurt</th>\n",
       "      <th>Crisp bread</th>\n",
       "    </tr>\n",
       "  </thead>\n",
       "  <tbody>\n",
       "    <tr>\n",
       "      <th>10</th>\n",
       "      <td>Sweden</td>\n",
       "      <td>97</td>\n",
       "      <td>13</td>\n",
       "      <td>93</td>\n",
       "      <td>31.0</td>\n",
       "      <td>NaN</td>\n",
       "      <td>43</td>\n",
       "      <td>43</td>\n",
       "      <td>39</td>\n",
       "      <td>54</td>\n",
       "      <td>...</td>\n",
       "      <td>56</td>\n",
       "      <td>78</td>\n",
       "      <td>53</td>\n",
       "      <td>75</td>\n",
       "      <td>9</td>\n",
       "      <td>68</td>\n",
       "      <td>32</td>\n",
       "      <td>48</td>\n",
       "      <td>2.0</td>\n",
       "      <td>93</td>\n",
       "    </tr>\n",
       "    <tr>\n",
       "      <th>13</th>\n",
       "      <td>Finland</td>\n",
       "      <td>98</td>\n",
       "      <td>12</td>\n",
       "      <td>84</td>\n",
       "      <td>20.0</td>\n",
       "      <td>64.0</td>\n",
       "      <td>27</td>\n",
       "      <td>10</td>\n",
       "      <td>8</td>\n",
       "      <td>18</td>\n",
       "      <td>...</td>\n",
       "      <td>50</td>\n",
       "      <td>57</td>\n",
       "      <td>22</td>\n",
       "      <td>37</td>\n",
       "      <td>15</td>\n",
       "      <td>96</td>\n",
       "      <td>94</td>\n",
       "      <td>17</td>\n",
       "      <td>NaN</td>\n",
       "      <td>64</td>\n",
       "    </tr>\n",
       "    <tr>\n",
       "      <th>14</th>\n",
       "      <td>Spain</td>\n",
       "      <td>70</td>\n",
       "      <td>40</td>\n",
       "      <td>40</td>\n",
       "      <td>NaN</td>\n",
       "      <td>62.0</td>\n",
       "      <td>43</td>\n",
       "      <td>2</td>\n",
       "      <td>14</td>\n",
       "      <td>23</td>\n",
       "      <td>...</td>\n",
       "      <td>59</td>\n",
       "      <td>77</td>\n",
       "      <td>30</td>\n",
       "      <td>38</td>\n",
       "      <td>86</td>\n",
       "      <td>44</td>\n",
       "      <td>51</td>\n",
       "      <td>91</td>\n",
       "      <td>16.0</td>\n",
       "      <td>13</td>\n",
       "    </tr>\n",
       "  </tbody>\n",
       "</table>\n",
       "<p>3 rows × 21 columns</p>\n",
       "</div>"
      ],
      "text/plain": [
       "    Country  Real coffee  Instant coffee  Tea  Sweetener  Biscuits  \\\n",
       "10   Sweden           97              13   93       31.0       NaN   \n",
       "13  Finland           98              12   84       20.0      64.0   \n",
       "14    Spain           70              40   40        NaN      62.0   \n",
       "\n",
       "    Powder soup  Tin soup  Potatoes  Frozen fish  ...  Apples  Oranges  \\\n",
       "10           43        43        39           54  ...      56       78   \n",
       "13           27        10         8           18  ...      50       57   \n",
       "14           43         2        14           23  ...      59       77   \n",
       "\n",
       "    Tinned fruit  Jam  Garlic  Butter  Margarine  Olive oil  Yoghurt  \\\n",
       "10            53   75       9      68         32         48      2.0   \n",
       "13            22   37      15      96         94         17      NaN   \n",
       "14            30   38      86      44         51         91     16.0   \n",
       "\n",
       "    Crisp bread  \n",
       "10           93  \n",
       "13           64  \n",
       "14           13  \n",
       "\n",
       "[3 rows x 21 columns]"
      ]
     },
     "execution_count": 3,
     "metadata": {},
     "output_type": "execute_result"
    }
   ],
   "source": [
    "# Show those rows that have missing data:\n",
    "df[df.isna().any(axis=1)]"
   ]
  },
  {
   "cell_type": "markdown",
   "metadata": {},
   "source": [
    "We can see two of the NaN values here, but we cannot see the third. Here are two things we could do: we could use a command like `pd.set_option(\"display.max_rows\", None)` to make jupyter display all the columns, but that could get cumbersome. Instead, I'll vertically _and_ horizontally slice to ensure that I have a tractable output. Here, we're using `df.loc` which allows for numpy-like slicing in both the vertical and horizontal directions at once."
   ]
  },
  {
   "cell_type": "code",
   "execution_count": 4,
   "metadata": {},
   "outputs": [
    {
     "data": {
      "text/html": [
       "<div>\n",
       "<style scoped>\n",
       "    .dataframe tbody tr th:only-of-type {\n",
       "        vertical-align: middle;\n",
       "    }\n",
       "\n",
       "    .dataframe tbody tr th {\n",
       "        vertical-align: top;\n",
       "    }\n",
       "\n",
       "    .dataframe thead th {\n",
       "        text-align: right;\n",
       "    }\n",
       "</style>\n",
       "<table border=\"1\" class=\"dataframe\">\n",
       "  <thead>\n",
       "    <tr style=\"text-align: right;\">\n",
       "      <th></th>\n",
       "      <th>Sweetener</th>\n",
       "      <th>Biscuits</th>\n",
       "      <th>Yoghurt</th>\n",
       "    </tr>\n",
       "  </thead>\n",
       "  <tbody>\n",
       "    <tr>\n",
       "      <th>10</th>\n",
       "      <td>31.0</td>\n",
       "      <td>NaN</td>\n",
       "      <td>2.0</td>\n",
       "    </tr>\n",
       "    <tr>\n",
       "      <th>13</th>\n",
       "      <td>20.0</td>\n",
       "      <td>64.0</td>\n",
       "      <td>NaN</td>\n",
       "    </tr>\n",
       "    <tr>\n",
       "      <th>14</th>\n",
       "      <td>NaN</td>\n",
       "      <td>62.0</td>\n",
       "      <td>16.0</td>\n",
       "    </tr>\n",
       "  </tbody>\n",
       "</table>\n",
       "</div>"
      ],
      "text/plain": [
       "    Sweetener  Biscuits  Yoghurt\n",
       "10       31.0       NaN      2.0\n",
       "13       20.0      64.0      NaN\n",
       "14        NaN      62.0     16.0"
      ]
     },
     "execution_count": 4,
     "metadata": {},
     "output_type": "execute_result"
    }
   ],
   "source": [
    "#          horizontal             vertical\n",
    "#              |                      |\n",
    "#              V                      V\n",
    "\n",
    "df.loc[df.isna().any(axis=1), df.isna().any()]"
   ]
  },
  {
   "cell_type": "markdown",
   "metadata": {},
   "source": [
    "So, this turns out to be an extremely tame data set in terms of its missing data. Often, there is a larger number of missing entries. We also need to be sure that there isn't missing data that's hiding as another value, such as `0` or `-1`. The best way to do this would be via a few plots and a call to `describe` to look for strange values."
   ]
  },
  {
   "cell_type": "code",
   "execution_count": 5,
   "metadata": {},
   "outputs": [
    {
     "data": {
      "text/html": [
       "<div>\n",
       "<style scoped>\n",
       "    .dataframe tbody tr th:only-of-type {\n",
       "        vertical-align: middle;\n",
       "    }\n",
       "\n",
       "    .dataframe tbody tr th {\n",
       "        vertical-align: top;\n",
       "    }\n",
       "\n",
       "    .dataframe thead th {\n",
       "        text-align: right;\n",
       "    }\n",
       "</style>\n",
       "<table border=\"1\" class=\"dataframe\">\n",
       "  <thead>\n",
       "    <tr style=\"text-align: right;\">\n",
       "      <th></th>\n",
       "      <th>Real coffee</th>\n",
       "      <th>Instant coffee</th>\n",
       "      <th>Tea</th>\n",
       "      <th>Sweetener</th>\n",
       "      <th>Biscuits</th>\n",
       "      <th>Powder soup</th>\n",
       "      <th>Tin soup</th>\n",
       "      <th>Potatoes</th>\n",
       "      <th>Frozen fish</th>\n",
       "      <th>Frozen veggies</th>\n",
       "      <th>Apples</th>\n",
       "      <th>Oranges</th>\n",
       "      <th>Tinned fruit</th>\n",
       "      <th>Jam</th>\n",
       "      <th>Garlic</th>\n",
       "      <th>Butter</th>\n",
       "      <th>Margarine</th>\n",
       "      <th>Olive oil</th>\n",
       "      <th>Yoghurt</th>\n",
       "      <th>Crisp bread</th>\n",
       "    </tr>\n",
       "  </thead>\n",
       "  <tbody>\n",
       "    <tr>\n",
       "      <th>count</th>\n",
       "      <td>16.000000</td>\n",
       "      <td>16.000000</td>\n",
       "      <td>16.000000</td>\n",
       "      <td>15.000000</td>\n",
       "      <td>15.000000</td>\n",
       "      <td>16.000000</td>\n",
       "      <td>16.000000</td>\n",
       "      <td>16.000000</td>\n",
       "      <td>16.000000</td>\n",
       "      <td>16.00000</td>\n",
       "      <td>16.000000</td>\n",
       "      <td>16.000000</td>\n",
       "      <td>16.000000</td>\n",
       "      <td>16.000000</td>\n",
       "      <td>16.000000</td>\n",
       "      <td>16.000000</td>\n",
       "      <td>16.000000</td>\n",
       "      <td>16.000000</td>\n",
       "      <td>15.000000</td>\n",
       "      <td>16.000000</td>\n",
       "    </tr>\n",
       "    <tr>\n",
       "      <th>mean</th>\n",
       "      <td>78.562500</td>\n",
       "      <td>39.250000</td>\n",
       "      <td>78.500000</td>\n",
       "      <td>18.000000</td>\n",
       "      <td>60.666667</td>\n",
       "      <td>49.000000</td>\n",
       "      <td>18.312500</td>\n",
       "      <td>12.750000</td>\n",
       "      <td>21.875000</td>\n",
       "      <td>15.87500</td>\n",
       "      <td>66.812500</td>\n",
       "      <td>70.500000</td>\n",
       "      <td>41.937500</td>\n",
       "      <td>55.187500</td>\n",
       "      <td>42.312500</td>\n",
       "      <td>75.812500</td>\n",
       "      <td>69.125000</td>\n",
       "      <td>54.187500</td>\n",
       "      <td>20.533333</td>\n",
       "      <td>27.750000</td>\n",
       "    </tr>\n",
       "    <tr>\n",
       "      <th>std</th>\n",
       "      <td>23.145824</td>\n",
       "      <td>23.147354</td>\n",
       "      <td>18.540047</td>\n",
       "      <td>10.902162</td>\n",
       "      <td>19.841035</td>\n",
       "      <td>15.427249</td>\n",
       "      <td>20.178268</td>\n",
       "      <td>9.574271</td>\n",
       "      <td>13.980343</td>\n",
       "      <td>12.78997</td>\n",
       "      <td>17.581122</td>\n",
       "      <td>14.033294</td>\n",
       "      <td>23.256451</td>\n",
       "      <td>22.592679</td>\n",
       "      <td>34.677022</td>\n",
       "      <td>20.910026</td>\n",
       "      <td>26.849891</td>\n",
       "      <td>28.842604</td>\n",
       "      <td>18.980692</td>\n",
       "      <td>25.026652</td>\n",
       "    </tr>\n",
       "    <tr>\n",
       "      <th>min</th>\n",
       "      <td>27.000000</td>\n",
       "      <td>10.000000</td>\n",
       "      <td>40.000000</td>\n",
       "      <td>2.000000</td>\n",
       "      <td>22.000000</td>\n",
       "      <td>27.000000</td>\n",
       "      <td>1.000000</td>\n",
       "      <td>2.000000</td>\n",
       "      <td>4.000000</td>\n",
       "      <td>2.00000</td>\n",
       "      <td>22.000000</td>\n",
       "      <td>42.000000</td>\n",
       "      <td>8.000000</td>\n",
       "      <td>16.000000</td>\n",
       "      <td>5.000000</td>\n",
       "      <td>31.000000</td>\n",
       "      <td>24.000000</td>\n",
       "      <td>13.000000</td>\n",
       "      <td>2.000000</td>\n",
       "      <td>3.000000</td>\n",
       "    </tr>\n",
       "    <tr>\n",
       "      <th>25%</th>\n",
       "      <td>71.500000</td>\n",
       "      <td>17.000000</td>\n",
       "      <td>62.500000</td>\n",
       "      <td>11.000000</td>\n",
       "      <td>56.000000</td>\n",
       "      <td>36.250000</td>\n",
       "      <td>3.750000</td>\n",
       "      <td>6.500000</td>\n",
       "      <td>13.750000</td>\n",
       "      <td>6.50000</td>\n",
       "      <td>56.750000</td>\n",
       "      <td>65.250000</td>\n",
       "      <td>28.000000</td>\n",
       "      <td>40.250000</td>\n",
       "      <td>11.000000</td>\n",
       "      <td>64.500000</td>\n",
       "      <td>47.750000</td>\n",
       "      <td>29.500000</td>\n",
       "      <td>5.500000</td>\n",
       "      <td>10.500000</td>\n",
       "    </tr>\n",
       "    <tr>\n",
       "      <th>50%</th>\n",
       "      <td>89.000000</td>\n",
       "      <td>39.000000</td>\n",
       "      <td>84.500000</td>\n",
       "      <td>19.000000</td>\n",
       "      <td>62.000000</td>\n",
       "      <td>47.000000</td>\n",
       "      <td>11.500000</td>\n",
       "      <td>10.000000</td>\n",
       "      <td>19.500000</td>\n",
       "      <td>13.00000</td>\n",
       "      <td>71.500000</td>\n",
       "      <td>72.000000</td>\n",
       "      <td>43.000000</td>\n",
       "      <td>54.000000</td>\n",
       "      <td>25.500000</td>\n",
       "      <td>83.000000</td>\n",
       "      <td>79.000000</td>\n",
       "      <td>52.500000</td>\n",
       "      <td>13.000000</td>\n",
       "      <td>21.000000</td>\n",
       "    </tr>\n",
       "    <tr>\n",
       "      <th>75%</th>\n",
       "      <td>96.000000</td>\n",
       "      <td>54.250000</td>\n",
       "      <td>92.250000</td>\n",
       "      <td>26.500000</td>\n",
       "      <td>75.000000</td>\n",
       "      <td>58.000000</td>\n",
       "      <td>20.000000</td>\n",
       "      <td>17.000000</td>\n",
       "      <td>26.250000</td>\n",
       "      <td>21.50000</td>\n",
       "      <td>81.000000</td>\n",
       "      <td>77.250000</td>\n",
       "      <td>50.750000</td>\n",
       "      <td>72.000000</td>\n",
       "      <td>81.500000</td>\n",
       "      <td>94.000000</td>\n",
       "      <td>94.000000</td>\n",
       "      <td>83.250000</td>\n",
       "      <td>30.500000</td>\n",
       "      <td>31.000000</td>\n",
       "    </tr>\n",
       "    <tr>\n",
       "      <th>max</th>\n",
       "      <td>98.000000</td>\n",
       "      <td>86.000000</td>\n",
       "      <td>99.000000</td>\n",
       "      <td>35.000000</td>\n",
       "      <td>91.000000</td>\n",
       "      <td>75.000000</td>\n",
       "      <td>76.000000</td>\n",
       "      <td>39.000000</td>\n",
       "      <td>54.000000</td>\n",
       "      <td>45.00000</td>\n",
       "      <td>87.000000</td>\n",
       "      <td>94.000000</td>\n",
       "      <td>89.000000</td>\n",
       "      <td>91.000000</td>\n",
       "      <td>91.000000</td>\n",
       "      <td>97.000000</td>\n",
       "      <td>97.000000</td>\n",
       "      <td>94.000000</td>\n",
       "      <td>57.000000</td>\n",
       "      <td>93.000000</td>\n",
       "    </tr>\n",
       "  </tbody>\n",
       "</table>\n",
       "</div>"
      ],
      "text/plain": [
       "       Real coffee  Instant coffee        Tea  Sweetener   Biscuits  \\\n",
       "count    16.000000       16.000000  16.000000  15.000000  15.000000   \n",
       "mean     78.562500       39.250000  78.500000  18.000000  60.666667   \n",
       "std      23.145824       23.147354  18.540047  10.902162  19.841035   \n",
       "min      27.000000       10.000000  40.000000   2.000000  22.000000   \n",
       "25%      71.500000       17.000000  62.500000  11.000000  56.000000   \n",
       "50%      89.000000       39.000000  84.500000  19.000000  62.000000   \n",
       "75%      96.000000       54.250000  92.250000  26.500000  75.000000   \n",
       "max      98.000000       86.000000  99.000000  35.000000  91.000000   \n",
       "\n",
       "       Powder soup   Tin soup   Potatoes  Frozen fish  Frozen veggies  \\\n",
       "count    16.000000  16.000000  16.000000    16.000000        16.00000   \n",
       "mean     49.000000  18.312500  12.750000    21.875000        15.87500   \n",
       "std      15.427249  20.178268   9.574271    13.980343        12.78997   \n",
       "min      27.000000   1.000000   2.000000     4.000000         2.00000   \n",
       "25%      36.250000   3.750000   6.500000    13.750000         6.50000   \n",
       "50%      47.000000  11.500000  10.000000    19.500000        13.00000   \n",
       "75%      58.000000  20.000000  17.000000    26.250000        21.50000   \n",
       "max      75.000000  76.000000  39.000000    54.000000        45.00000   \n",
       "\n",
       "          Apples    Oranges  Tinned fruit        Jam     Garlic     Butter  \\\n",
       "count  16.000000  16.000000     16.000000  16.000000  16.000000  16.000000   \n",
       "mean   66.812500  70.500000     41.937500  55.187500  42.312500  75.812500   \n",
       "std    17.581122  14.033294     23.256451  22.592679  34.677022  20.910026   \n",
       "min    22.000000  42.000000      8.000000  16.000000   5.000000  31.000000   \n",
       "25%    56.750000  65.250000     28.000000  40.250000  11.000000  64.500000   \n",
       "50%    71.500000  72.000000     43.000000  54.000000  25.500000  83.000000   \n",
       "75%    81.000000  77.250000     50.750000  72.000000  81.500000  94.000000   \n",
       "max    87.000000  94.000000     89.000000  91.000000  91.000000  97.000000   \n",
       "\n",
       "       Margarine  Olive oil    Yoghurt  Crisp bread  \n",
       "count  16.000000  16.000000  15.000000    16.000000  \n",
       "mean   69.125000  54.187500  20.533333    27.750000  \n",
       "std    26.849891  28.842604  18.980692    25.026652  \n",
       "min    24.000000  13.000000   2.000000     3.000000  \n",
       "25%    47.750000  29.500000   5.500000    10.500000  \n",
       "50%    79.000000  52.500000  13.000000    21.000000  \n",
       "75%    94.000000  83.250000  30.500000    31.000000  \n",
       "max    97.000000  94.000000  57.000000    93.000000  "
      ]
     },
     "execution_count": 5,
     "metadata": {},
     "output_type": "execute_result"
    }
   ],
   "source": [
    "df.describe()"
   ]
  },
  {
   "cell_type": "markdown",
   "metadata": {},
   "source": [
    "What I'm seeing here is none of the `min` or `max` values giving me weird values. So, I think our entries that are numbers are probably good. Let's plot some histograms as well to see if the distributions look good. In theory, we should check them all, but as an example, and to keep this notebook a little shorter, I'll just show three."
   ]
  },
  {
   "cell_type": "code",
   "execution_count": 6,
   "metadata": {},
   "outputs": [
    {
     "data": {
      "image/png": "[encoded data removed]",
      "text/plain": [
       "<Figure size 432x288 with 1 Axes>"
      ]
     },
     "metadata": {
      "needs_background": "light"
     },
     "output_type": "display_data"
    },
    {
     "data": {
      "image/png": "[encoded data removed]",
      "text/plain": [
       "<Figure size 432x288 with 1 Axes>"
      ]
     },
     "metadata": {
      "needs_background": "light"
     },
     "output_type": "display_data"
    },
    {
     "data": {
      "image/png": "[encoded data removed]",
      "text/plain": [
       "<Figure size 432x288 with 1 Axes>"
      ]
     },
     "metadata": {
      "needs_background": "light"
     },
     "output_type": "display_data"
    }
   ],
   "source": [
    "\"\"\"\n",
    "Uncomment this to see them all\n",
    "\n",
    "for column in df.columns:\n",
    "    plt.hist(df[column])\n",
    "    plt.show()\n",
    "\"\"\"\n",
    "\n",
    "for column in [\"Oranges\", \"Frozen veggies\", \"Instant coffee\"]:\n",
    "    plt.hist(df[column])\n",
    "    plt.title(\"Histogram for: {}\".format(column))\n",
    "    plt.show()"
   ]
  },
  {
   "cell_type": "markdown",
   "metadata": {},
   "source": [
    "I chose these three as examples because the first one, `Oranges`, is suggestive of a graph with no numbers-as-missing-data. It looks fine. The `Frozen veggies` and `Instant coffee` columns _might_ have some issues: the very high values of `Frozen veggies` and the very low values of `Instant coffee` seem a little bit disconnected from the group. Let's investigate further."
   ]
  },
  {
   "cell_type": "code",
   "execution_count": 7,
   "metadata": {},
   "outputs": [
    {
     "name": "stdout",
     "output_type": "stream",
     "text": [
      "count    16.000000\n",
      "mean     78.562500\n",
      "std      23.145824\n",
      "min      27.000000\n",
      "25%      71.500000\n",
      "50%      89.000000\n",
      "75%      96.000000\n",
      "max      98.000000\n",
      "Name: Real coffee, dtype: float64\n"
     ]
    },
    {
     "data": {
      "text/html": [
       "<div>\n",
       "<style scoped>\n",
       "    .dataframe tbody tr th:only-of-type {\n",
       "        vertical-align: middle;\n",
       "    }\n",
       "\n",
       "    .dataframe tbody tr th {\n",
       "        vertical-align: top;\n",
       "    }\n",
       "\n",
       "    .dataframe thead th {\n",
       "        text-align: right;\n",
       "    }\n",
       "</style>\n",
       "<table border=\"1\" class=\"dataframe\">\n",
       "  <thead>\n",
       "    <tr style=\"text-align: right;\">\n",
       "      <th></th>\n",
       "      <th>Country</th>\n",
       "      <th>Instant coffee</th>\n",
       "      <th>Real coffee</th>\n",
       "    </tr>\n",
       "  </thead>\n",
       "  <tbody>\n",
       "    <tr>\n",
       "      <th>1</th>\n",
       "      <td>Italy</td>\n",
       "      <td>10</td>\n",
       "      <td>82</td>\n",
       "    </tr>\n",
       "    <tr>\n",
       "      <th>10</th>\n",
       "      <td>Sweden</td>\n",
       "      <td>13</td>\n",
       "      <td>97</td>\n",
       "    </tr>\n",
       "    <tr>\n",
       "      <th>11</th>\n",
       "      <td>Denmark</td>\n",
       "      <td>17</td>\n",
       "      <td>96</td>\n",
       "    </tr>\n",
       "    <tr>\n",
       "      <th>12</th>\n",
       "      <td>Norway</td>\n",
       "      <td>17</td>\n",
       "      <td>92</td>\n",
       "    </tr>\n",
       "    <tr>\n",
       "      <th>13</th>\n",
       "      <td>Finland</td>\n",
       "      <td>12</td>\n",
       "      <td>98</td>\n",
       "    </tr>\n",
       "  </tbody>\n",
       "</table>\n",
       "</div>"
      ],
      "text/plain": [
       "    Country  Instant coffee  Real coffee\n",
       "1     Italy              10           82\n",
       "10   Sweden              13           97\n",
       "11  Denmark              17           96\n",
       "12   Norway              17           92\n",
       "13  Finland              12           98"
      ]
     },
     "execution_count": 7,
     "metadata": {},
     "output_type": "execute_result"
    }
   ],
   "source": [
    "# What are the values of Instant coffee that are small?\n",
    "print(df[\"Real coffee\"].describe())\n",
    "\n",
    "df.loc[df[\"Instant coffee\"] < 20, [\"Country\", \"Instant coffee\", \"Real coffee\"]]"
   ]
  },
  {
   "cell_type": "markdown",
   "metadata": {},
   "source": [
    "What this is suggesting is that these values are probably legitimate, as they're not all the same value. Perhaps these countries care a bit more about the quality of their coffee? I added `Real coffee`, as well as that column's _description_, or basic statistics like min and max, as well, to justify this argument. How about `Frozen veggies`?"
   ]
  },
  {
   "cell_type": "code",
   "execution_count": 8,
   "metadata": {},
   "outputs": [
    {
     "data": {
      "text/html": [
       "<div>\n",
       "<style scoped>\n",
       "    .dataframe tbody tr th:only-of-type {\n",
       "        vertical-align: middle;\n",
       "    }\n",
       "\n",
       "    .dataframe tbody tr th {\n",
       "        vertical-align: top;\n",
       "    }\n",
       "\n",
       "    .dataframe thead th {\n",
       "        text-align: right;\n",
       "    }\n",
       "</style>\n",
       "<table border=\"1\" class=\"dataframe\">\n",
       "  <thead>\n",
       "    <tr style=\"text-align: right;\">\n",
       "      <th></th>\n",
       "      <th>Country</th>\n",
       "      <th>Frozen veggies</th>\n",
       "    </tr>\n",
       "  </thead>\n",
       "  <tbody>\n",
       "    <tr>\n",
       "      <th>10</th>\n",
       "      <td>Sweden</td>\n",
       "      <td>45</td>\n",
       "    </tr>\n",
       "    <tr>\n",
       "      <th>11</th>\n",
       "      <td>Denmark</td>\n",
       "      <td>42</td>\n",
       "    </tr>\n",
       "  </tbody>\n",
       "</table>\n",
       "</div>"
      ],
      "text/plain": [
       "    Country  Frozen veggies\n",
       "10   Sweden              45\n",
       "11  Denmark              42"
      ]
     },
     "execution_count": 8,
     "metadata": {},
     "output_type": "execute_result"
    }
   ],
   "source": [
    "df.loc[df[\"Frozen veggies\"] > 40, [\"Country\", \"Frozen veggies\"]]"
   ]
  },
  {
   "cell_type": "markdown",
   "metadata": {},
   "source": [
    "Hm, interesting. I wonder if it's an issue of transportation for fresh veggies? Or, maybe this is part of their culture? Whatever the reason, these seem like legitimate values as well. \n",
    "\n",
    "Just as an example, let's temporarily rig the dataset so that you could see what it _would_ look like if there was some missing data tagged as some strange number."
   ]
  },
  {
   "cell_type": "code",
   "execution_count": 9,
   "metadata": {},
   "outputs": [
    {
     "name": "stdout",
     "output_type": "stream",
     "text": [
      "Shape of dataframe: (16, 21)\n",
      "Shape of dataframe: (22, 21)\n"
     ]
    }
   ],
   "source": [
    "# Let's duplicate the final row a bunch of times and add some garbage in:\n",
    "bogus = pd.DataFrame([df.iloc[-1]] * 6)\n",
    "bogus[\"Oranges\"] = -1  # Suppose `-1` meant \"missing\"\n",
    "bogus\n",
    "\n",
    "dirtied_data = pd.concat([df, bogus], axis=0)\n",
    "for frame in [df, dirtied_data]:\n",
    "    print(\"Shape of dataframe: {}\".format(frame.shape)) "
   ]
  },
  {
   "cell_type": "markdown",
   "metadata": {},
   "source": [
    "Okay, and now to see what that might look like:"
   ]
  },
  {
   "cell_type": "code",
   "execution_count": 10,
   "metadata": {},
   "outputs": [
    {
     "data": {
      "text/plain": [
       "(array([6., 0., 0., 0., 1., 2., 1., 5., 5., 2.]),\n",
       " array([-1. ,  8.5, 18. , 27.5, 37. , 46.5, 56. , 65.5, 75. , 84.5, 94. ]),\n",
       " <BarContainer object of 10 artists>)"
      ]
     },
     "execution_count": 10,
     "metadata": {},
     "output_type": "execute_result"
    },
    {
     "data": {
      "image/png": "[encoded data removed]",
      "text/plain": [
       "<Figure size 432x288 with 1 Axes>"
      ]
     },
     "metadata": {
      "needs_background": "light"
     },
     "output_type": "display_data"
    }
   ],
   "source": [
    "plt.hist(dirtied_data[\"Oranges\"])"
   ]
  },
  {
   "cell_type": "markdown",
   "metadata": {},
   "source": [
    "See how that looks a bit like the `Instant Coffee` example? Only this time, if we were to explore more, we would see that all those low values are the same, and they're not likely to be legitimate values, given that we're supposed to be counting oranges."
   ]
  },
  {
   "cell_type": "code",
   "execution_count": 11,
   "metadata": {},
   "outputs": [
    {
     "data": {
      "text/plain": [
       "15   -1\n",
       "15   -1\n",
       "15   -1\n",
       "15   -1\n",
       "15   -1\n",
       "15   -1\n",
       "Name: Oranges, dtype: int64"
      ]
     },
     "execution_count": 11,
     "metadata": {},
     "output_type": "execute_result"
    }
   ],
   "source": [
    "dirtied_data.loc[dirtied_data[\"Oranges\"] < 20, \"Oranges\"]"
   ]
  },
  {
   "cell_type": "markdown",
   "metadata": {},
   "source": [
    "That's clearly bogus."
   ]
  },
  {
   "cell_type": "markdown",
   "metadata": {},
   "source": [
    "## What do do with missing data?\n",
    "\n",
    "Now that we have an understanding of what we think are the missing entries in the dataset, we have to decide what to do with them. \n",
    "\n",
    "#### Dropping rows or columns\n",
    "The first option is dropping the rows or columns that have missing data. This is often the best bet if:\n",
    "* You have plenty of data to work with, or \n",
    "* Those rows or columns are full of missing entries, making them significantly less useful that the rest of the data set.\n",
    "\n",
    "This is also the easiest technique. Let's suppose we wanted to do that with one of the missing entries, `Sweden`'s `Biscuits` column. "
   ]
  },
  {
   "cell_type": "code",
   "execution_count": 12,
   "metadata": {},
   "outputs": [
    {
     "data": {
      "text/plain": [
       "nan"
      ]
     },
     "execution_count": 12,
     "metadata": {},
     "output_type": "execute_result"
    }
   ],
   "source": [
    "# Just confirming:\n",
    "df.loc[10, \"Biscuits\"]"
   ]
  },
  {
   "cell_type": "code",
   "execution_count": 13,
   "metadata": {},
   "outputs": [
    {
     "name": "stdout",
     "output_type": "stream",
     "text": [
      "Shape of dataframe: (15, 21)\n",
      "Shape of dataframe: (16, 20)\n"
     ]
    }
   ],
   "source": [
    "# You could drop the row:\n",
    "without_sweden = df.drop(10, axis = 0)\n",
    "\n",
    "# or the column:\n",
    "without_biscuits = df.drop(\"Biscuits\", axis=1)\n",
    "\n",
    "for frame in [without_sweden, without_biscuits]:\n",
    "    print(\"Shape of dataframe: {}\".format(frame.shape)) \n",
    "\n",
    "df = without_biscuits"
   ]
  },
  {
   "cell_type": "markdown",
   "metadata": {},
   "source": [
    "#### Imputing with the mean or median\n",
    "\n",
    "Another simple options is called _imputing_, or replacing the missing value with that column's median or mean. Which to do is a topic of much discussion — often the median is a better choice because it is an actual value from the dataset, but it isn't always the right choice.\n",
    "\n",
    "Let's replace `Finland`'s missing `Yoghurt` column with `Yoghurt`'s median."
   ]
  },
  {
   "cell_type": "code",
   "execution_count": 14,
   "metadata": {},
   "outputs": [
    {
     "name": "stdout",
     "output_type": "stream",
     "text": [
      "The median of `Yoghurt` is: 13.0\n"
     ]
    },
    {
     "data": {
      "text/html": [
       "<div>\n",
       "<style scoped>\n",
       "    .dataframe tbody tr th:only-of-type {\n",
       "        vertical-align: middle;\n",
       "    }\n",
       "\n",
       "    .dataframe tbody tr th {\n",
       "        vertical-align: top;\n",
       "    }\n",
       "\n",
       "    .dataframe thead th {\n",
       "        text-align: right;\n",
       "    }\n",
       "</style>\n",
       "<table border=\"1\" class=\"dataframe\">\n",
       "  <thead>\n",
       "    <tr style=\"text-align: right;\">\n",
       "      <th></th>\n",
       "      <th>Country</th>\n",
       "      <th>Yoghurt</th>\n",
       "    </tr>\n",
       "  </thead>\n",
       "  <tbody>\n",
       "    <tr>\n",
       "      <th>13</th>\n",
       "      <td>Finland</td>\n",
       "      <td>13.0</td>\n",
       "    </tr>\n",
       "  </tbody>\n",
       "</table>\n",
       "</div>"
      ],
      "text/plain": [
       "    Country  Yoghurt\n",
       "13  Finland     13.0"
      ]
     },
     "execution_count": 14,
     "metadata": {},
     "output_type": "execute_result"
    }
   ],
   "source": [
    "print(\"The median of `Yoghurt` is: {}\".format(df[\"Yoghurt\"].median()))\n",
    "\n",
    "df.loc[13, \"Yoghurt\"] = df[\"Yoghurt\"].median()\n",
    "\n",
    "# Just confirming (also, using boolean indexing for the rows, just to see it):\n",
    "df.loc[df[\"Country\"] == \"Finland\", [\"Country\", \"Yoghurt\"]]"
   ]
  },
  {
   "cell_type": "markdown",
   "metadata": {},
   "source": [
    "You could even go really crazy and determine a subset of the data that is similar to your row in some way (say, for us, only Scandinavian countries), and only take the mean of those (since there are only four such countries, I think perhaps the mean makes more sense than the median)."
   ]
  },
  {
   "cell_type": "code",
   "execution_count": 15,
   "metadata": {},
   "outputs": [
    {
     "data": {
      "text/html": [
       "<div>\n",
       "<style scoped>\n",
       "    .dataframe tbody tr th:only-of-type {\n",
       "        vertical-align: middle;\n",
       "    }\n",
       "\n",
       "    .dataframe tbody tr th {\n",
       "        vertical-align: top;\n",
       "    }\n",
       "\n",
       "    .dataframe thead th {\n",
       "        text-align: right;\n",
       "    }\n",
       "</style>\n",
       "<table border=\"1\" class=\"dataframe\">\n",
       "  <thead>\n",
       "    <tr style=\"text-align: right;\">\n",
       "      <th></th>\n",
       "      <th>Country</th>\n",
       "      <th>Yoghurt</th>\n",
       "    </tr>\n",
       "  </thead>\n",
       "  <tbody>\n",
       "    <tr>\n",
       "      <th>10</th>\n",
       "      <td>Sweden</td>\n",
       "      <td>2.0</td>\n",
       "    </tr>\n",
       "    <tr>\n",
       "      <th>11</th>\n",
       "      <td>Denmark</td>\n",
       "      <td>11.0</td>\n",
       "    </tr>\n",
       "    <tr>\n",
       "      <th>12</th>\n",
       "      <td>Norway</td>\n",
       "      <td>2.0</td>\n",
       "    </tr>\n",
       "    <tr>\n",
       "      <th>13</th>\n",
       "      <td>Finland</td>\n",
       "      <td>5.0</td>\n",
       "    </tr>\n",
       "  </tbody>\n",
       "</table>\n",
       "</div>"
      ],
      "text/plain": [
       "    Country  Yoghurt\n",
       "10   Sweden      2.0\n",
       "11  Denmark     11.0\n",
       "12   Norway      2.0\n",
       "13  Finland      5.0"
      ]
     },
     "execution_count": 15,
     "metadata": {},
     "output_type": "execute_result"
    }
   ],
   "source": [
    "# Returning to the original value:\n",
    "df.loc[13, \"Yoghurt\"] = np.NaN\n",
    "\n",
    "# might be making an international enemy for myself with this next line:\n",
    "scandinavia = pd.Series([\"Sweden\", \"Denmark\", \"Norway\", \"Finland\"])\n",
    "\n",
    "mean = df.loc[df[\"Country\"].isin(scandinavia), \"Yoghurt\"].mean()\n",
    "df.loc[13, \"Yoghurt\"] = mean\n",
    "\n",
    "df.loc[df[\"Country\"].isin(scandinavia), [\"Country\", \"Yoghurt\"]]"
   ]
  },
  {
   "cell_type": "markdown",
   "metadata": {},
   "source": [
    "You could also do some exploration at first to determine the best subset of your data to use to compute the median or mean. You could, for example, use clustering to determine a cluster that's like your row of missing data, and then impute using only that cluster.\n",
    "\n",
    "#### Fancier Tricks\n",
    "\n",
    "There are lots of other things that you can do to fill missing values. One example would be finding another column that's correlated to your column with missing data, and fit a linear model to predict the missing column's data. For example, let's do this for `Spain`'s missing `Sweetener` entry."
   ]
  },
  {
   "cell_type": "code",
   "execution_count": 16,
   "metadata": {},
   "outputs": [
    {
     "name": "stdout",
     "output_type": "stream",
     "text": [
      "('Frozen veggies', 0.8097661991056496)\n",
      "('Frozen fish', 0.6530179911342388)\n",
      "('Tinned fruit', 0.639898119709343)\n",
      "('Tea', 0.6359180660019883)\n",
      "('Garlic', 0.46782012410721124)\n",
      "('Tin soup', 0.4674019970608857)\n",
      "('Crisp bread', 0.4604640860739981)\n",
      "('Apples', 0.4097135595970035)\n",
      "('Oranges', 0.39316292948544146)\n",
      "('Jam', 0.3750926540723653)\n",
      "('Olive oil', 0.36945262524942885)\n",
      "('Margarine', 0.3678719617974007)\n",
      "('Potatoes', 0.3142164864018697)\n",
      "('Real coffee', 0.25364736159650947)\n",
      "('Instant coffee', 0.24201140737222498)\n",
      "('Powder soup', 0.2058439611316546)\n",
      "('Yoghurt', 0.16940134788283212)\n",
      "('Butter', 0.029144593557602464)\n"
     ]
    }
   ],
   "source": [
    "# First, what's a similar column to Sweetener?\n",
    "\n",
    "correlations = []\n",
    "\n",
    "for column in df.columns.drop([\"Sweetener\",\"Country\"]):\n",
    "    correlations.append((column, abs(df[column].corr(df[\"Sweetener\"]))))\n",
    "    \n",
    "correlations.sort(key=lambda x: -x[1])\n",
    "print(*correlations, sep=\"\\n\")"
   ]
  },
  {
   "cell_type": "markdown",
   "metadata": {},
   "source": [
    "Wild. `Frozen veggies` is the most highly correlated with `Sweetener`. I suppose I don't know what I would have guessed, but it wasn't that. At any rate, let's take a look:"
   ]
  },
  {
   "cell_type": "code",
   "execution_count": 17,
   "metadata": {},
   "outputs": [
    {
     "data": {
      "text/plain": [
       "Text(0.5, 0, 'Frozen veggies')"
      ]
     },
     "execution_count": 17,
     "metadata": {},
     "output_type": "execute_result"
    },
    {
     "data": {
      "image/png": "[encoded data removed]",
      "text/plain": [
       "<Figure size 432x288 with 1 Axes>"
      ]
     },
     "metadata": {
      "needs_background": "light"
     },
     "output_type": "display_data"
    }
   ],
   "source": [
    "plt.scatter(df[\"Frozen veggies\"], df[\"Sweetener\"])\n",
    "plt.ylabel(\"Sweetener\")\n",
    "plt.xlabel(\"Frozen veggies\")"
   ]
  },
  {
   "cell_type": "markdown",
   "metadata": {},
   "source": [
    "Okay, that looks like a pretty decent correlation. Let's impute by fitting a linear regression to these, using `Frozen veggies` to predict `Sweetener`."
   ]
  },
  {
   "cell_type": "code",
   "execution_count": 18,
   "metadata": {},
   "outputs": [
    {
     "name": "stdout",
     "output_type": "stream",
     "text": [
      "14    7\n",
      "Name: Frozen veggies, dtype: int64\n"
     ]
    },
    {
     "data": {
      "text/plain": [
       "<matplotlib.collections.PathCollection at 0x7fa90bc08940>"
      ]
     },
     "execution_count": 18,
     "metadata": {},
     "output_type": "execute_result"
    },
    {
     "data": {
      "image/png": "[encoded data removed]",
      "text/plain": [
       "<Figure size 432x288 with 1 Axes>"
      ]
     },
     "metadata": {
      "needs_background": "light"
     },
     "output_type": "display_data"
    }
   ],
   "source": [
    "df_for_fitting = df.dropna()\n",
    "\n",
    "model = LinearRegression().fit(df_for_fitting[[\"Frozen veggies\"]], df_for_fitting[\"Sweetener\"])\n",
    "\n",
    "m = model.coef_[0]\n",
    "b = model.intercept_\n",
    "\n",
    "plt.scatter(df[\"Frozen veggies\"], df[\"Sweetener\"])\n",
    "plt.ylabel(\"Sweetener\")\n",
    "plt.xlabel(\"Frozen veggies\")\n",
    "plt.title(\"Spain's predicted `Sweetener` value\")\n",
    "\n",
    "plt.plot([0, 50],[b, m * 50 + b], color=\"violet\", zorder=1)\n",
    "\n",
    "spains_veggies = df.loc[df[\"Country\"] == \"Spain\", \"Frozen veggies\"]\n",
    "print(spains_veggies)\n",
    "spains_predicted_sweetener = model.predict(spains_veggies.to_numpy().reshape(-1, 1))\n",
    "\n",
    "plt.scatter([spains_veggies], spains_predicted_sweetener, color=\"red\", s=100, zorder=2)"
   ]
  },
  {
   "cell_type": "markdown",
   "metadata": {},
   "source": [
    "Thus, we now have a prediction for the value, so we can put it into our dataset."
   ]
  },
  {
   "cell_type": "code",
   "execution_count": 19,
   "metadata": {},
   "outputs": [],
   "source": [
    "df.loc[14, \"Sweetener\"] = spains_predicted_sweetener[0]"
   ]
  },
  {
   "cell_type": "markdown",
   "metadata": {},
   "source": [
    "And to conclude, we'll take a look at our dataset to see that it has no more missing values."
   ]
  },
  {
   "cell_type": "code",
   "execution_count": 20,
   "metadata": {},
   "outputs": [
    {
     "data": {
      "text/plain": [
       "False"
      ]
     },
     "execution_count": 20,
     "metadata": {},
     "output_type": "execute_result"
    }
   ],
   "source": [
    "\"\"\"\n",
    "The first `.any()` squishes down to the columns by name, as in \n",
    "    \"Do any elements in this column have a value of NaN?\"\n",
    "    \n",
    "The second `.any()` squishes that one vector of columns and falses/trues \n",
    "    into a single entry, making the final question, \n",
    "    \"Are there any NaN's in the whole dataset?\"\n",
    "\n",
    "\"\"\"\n",
    "# \n",
    "df.isna().any().any() "
   ]
  }
 ],
 "metadata": {
  "kernelspec": {
   "display_name": "Python 3",
   "language": "python",
   "name": "python3"
  },
  "language_info": {
   "codemirror_mode": {
    "name": "ipython",
    "version": 3
   },
   "file_extension": ".py",
   "mimetype": "text/x-python",
   "name": "python",
   "nbconvert_exporter": "python",
   "pygments_lexer": "ipython3",
   "version": "3.8.5"
  }
 },
 "nbformat": 4,
 "nbformat_minor": 4
}
