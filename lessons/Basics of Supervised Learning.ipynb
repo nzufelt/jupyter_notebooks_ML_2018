{
 "cells": [
  {
   "cell_type": "markdown",
   "metadata": {},
   "source": [
    "# Basics of Supervised Learning (mostly Classification)\n",
    "\n",
    "Recall that the field of Supervised Learning is one in which you're trying to learn a function: $$f(x)=y$$ where you have some **labeled** data: that is, you have a dataset with both the inputs $x$ and the correct outputs $y$.  Here are some examples: \n",
    "\n",
    "1. Perhaps you're trying to predict the market rate of houses, and you have a collection of data on houses (such as address, town, number of beds/baths, square footage, acreage of yard, _etc._).  That's the _input_, $x$.  Suppose however you also have how much each house recently sold for.  That's the _output_ of your desired function, $y$.\n",
    "2. Suppose you have a dataset of some health diagnostic tests for a person (such as their height, weight, blood pressure, blood sugar, family history of heart disease, _etc._), and you also know whether or not they've been diagnosed with diabetes.  If you'd like to train a model to predict diabetes whether someone has diabetes, then their diagnostics are your $x$ and whether they've been diagnosed is your $y$.\n",
    "\n",
    "In these two cases, you're performing similar tasks: given some _labeled training data_, learn how to make a prediction on future data.  These are both examples of _Supervised Learning_.  The difference between them is:\n",
    "\n",
    "1. Housing prices could be any real-valued number, realistically something in the tens of thousands to millions of dollars.  This process is called **Regression**.\n",
    "2. Whether someone has a disease is deciding on a class: there is a set, finite (usually small) number of possible outputs.  This process is called **Classification**.\n",
    "\n",
    "Let's take an example dataset.\n",
    "\n"
   ]
  },
  {
   "cell_type": "code",
   "execution_count": 1,
   "metadata": {},
   "outputs": [],
   "source": [
    "import random\n",
    "import pandas as pd\n",
    "import numpy as np\n",
    "import matplotlib.pyplot as plt\n",
    "%matplotlib inline\n",
    "plt.style.use('fivethirtyeight')\n",
    "\n",
    "from sklearn.linear_model import LogisticRegression"
   ]
  },
  {
   "cell_type": "code",
   "execution_count": 2,
   "metadata": {},
   "outputs": [],
   "source": [
    "def generate_data(seed, num_samples=10, noise=0.2):\n",
    "    random.seed(seed)\n",
    "    \n",
    "    # Here, we make a function that chooses the output for a given input.  This is simply used to\n",
    "    # generate some fake data.  In real life, you'd be given a labelled dataset!\n",
    "    def generate_y(bp):\n",
    "        noise_point = random.random() < noise\n",
    "        if not noise_point:\n",
    "            return 1 if bp > 145 else 0\n",
    "        return 0 if bp > 145 else 1\n",
    "\n",
    "    ids = list(range(num_samples))\n",
    "    blood_pressures = [random.randrange(100, 165) for i in ids]\n",
    "    has_disease = [generate_y(bp) for bp in blood_pressures]\n",
    "\n",
    "    return pd.DataFrame({'blood_pressure': blood_pressures, 'has_disease': has_disease}, index=ids)"
   ]
  },
  {
   "cell_type": "code",
   "execution_count": 3,
   "metadata": {},
   "outputs": [
    {
     "data": {
      "text/html": [
       "<div>\n",
       "<style scoped>\n",
       "    .dataframe tbody tr th:only-of-type {\n",
       "        vertical-align: middle;\n",
       "    }\n",
       "\n",
       "    .dataframe tbody tr th {\n",
       "        vertical-align: top;\n",
       "    }\n",
       "\n",
       "    .dataframe thead th {\n",
       "        text-align: right;\n",
       "    }\n",
       "</style>\n",
       "<table border=\"1\" class=\"dataframe\">\n",
       "  <thead>\n",
       "    <tr style=\"text-align: right;\">\n",
       "      <th></th>\n",
       "      <th>blood_pressure</th>\n",
       "      <th>has_disease</th>\n",
       "    </tr>\n",
       "  </thead>\n",
       "  <tbody>\n",
       "    <tr>\n",
       "      <th>0</th>\n",
       "      <td>118</td>\n",
       "      <td>1</td>\n",
       "    </tr>\n",
       "    <tr>\n",
       "      <th>1</th>\n",
       "      <td>155</td>\n",
       "      <td>1</td>\n",
       "    </tr>\n",
       "    <tr>\n",
       "      <th>2</th>\n",
       "      <td>107</td>\n",
       "      <td>0</td>\n",
       "    </tr>\n",
       "    <tr>\n",
       "      <th>3</th>\n",
       "      <td>132</td>\n",
       "      <td>1</td>\n",
       "    </tr>\n",
       "    <tr>\n",
       "      <th>4</th>\n",
       "      <td>151</td>\n",
       "      <td>1</td>\n",
       "    </tr>\n",
       "    <tr>\n",
       "      <th>5</th>\n",
       "      <td>116</td>\n",
       "      <td>0</td>\n",
       "    </tr>\n",
       "    <tr>\n",
       "      <th>6</th>\n",
       "      <td>136</td>\n",
       "      <td>0</td>\n",
       "    </tr>\n",
       "    <tr>\n",
       "      <th>7</th>\n",
       "      <td>163</td>\n",
       "      <td>1</td>\n",
       "    </tr>\n",
       "    <tr>\n",
       "      <th>8</th>\n",
       "      <td>117</td>\n",
       "      <td>0</td>\n",
       "    </tr>\n",
       "    <tr>\n",
       "      <th>9</th>\n",
       "      <td>115</td>\n",
       "      <td>0</td>\n",
       "    </tr>\n",
       "  </tbody>\n",
       "</table>\n",
       "</div>"
      ],
      "text/plain": [
       "   blood_pressure  has_disease\n",
       "0             118            1\n",
       "1             155            1\n",
       "2             107            0\n",
       "3             132            1\n",
       "4             151            1\n",
       "5             116            0\n",
       "6             136            0\n",
       "7             163            1\n",
       "8             117            0\n",
       "9             115            0"
      ]
     },
     "execution_count": 3,
     "metadata": {},
     "output_type": "execute_result"
    }
   ],
   "source": [
    "df = generate_data(14513)\n",
    "df"
   ]
  },
  {
   "cell_type": "markdown",
   "metadata": {},
   "source": [
    "Okay, so we have some very simple data.  Let's graph it."
   ]
  },
  {
   "cell_type": "code",
   "execution_count": 4,
   "metadata": {},
   "outputs": [
    {
     "data": {
      "image/png": "[encoded data removed]",
      "text/plain": [
       "<Figure size 432x288 with 1 Axes>"
      ]
     },
     "metadata": {},
     "output_type": "display_data"
    }
   ],
   "source": [
    "plt.scatter(df['blood_pressure'], df['has_disease'])\n",
    "plt.xlabel('Blood Pressure')\n",
    "plt.ylabel('Has Disease')\n",
    "plt.yticks([0,1])\n",
    "plt.ylim([-0.5, 1.5])\n",
    "plt.xlim([100, 165])\n",
    "\n",
    "plt.show()"
   ]
  },
  {
   "cell_type": "markdown",
   "metadata": {},
   "source": [
    "Our data suggests that there is in fact some correlation with blood pressure and this mystery disease.  This is where machine learning comes in.  Suppose we are able to generate some function $f$, which produces a diagnosis given a blood pressure reading.  Here's an example function that we may be able to produce using a classification algorithm known as _Logistic Regression_."
   ]
  },
  {
   "cell_type": "code",
   "execution_count": 5,
   "metadata": {},
   "outputs": [
    {
     "data": {
      "text/plain": [
       "LogisticRegression()"
      ]
     },
     "execution_count": 5,
     "metadata": {},
     "output_type": "execute_result"
    }
   ],
   "source": [
    "DATA_MEAN = df['blood_pressure'].mean()\n",
    "DATA_STD = df['blood_pressure'].std()\n",
    "\n",
    "# Because this algorithm is high-powered and ready to be utilized in the real world, it's expecting\n",
    "# more than one dimension of input.  Thus, we use this silly reshape command because our input, \n",
    "# blood pressure, is one-dimensional.  We also clean up the data to have mean 0 and a standard \n",
    "# deviation of 1 when it goes into the model.\n",
    "def prepare_inputs(X):\n",
    "    X = X - DATA_MEAN\n",
    "    X = X / DATA_STD\n",
    "    return X.reshape(-1, 1)\n",
    "\n",
    "X = prepare_inputs(df['blood_pressure'].values)\n",
    "\n",
    "model = LogisticRegression()\n",
    "model.fit(X, df['has_disease'])"
   ]
  },
  {
   "cell_type": "markdown",
   "metadata": {},
   "source": [
    "So we have a model that has been trained on our data.  So what?  Let's figure out what it would predict for any given value in our range, and plot that.  This will give us a curve that we can interpret."
   ]
  },
  {
   "cell_type": "code",
   "execution_count": 6,
   "metadata": {},
   "outputs": [
    {
     "data": {
      "image/png": "[encoded data removed]",
      "text/plain": [
       "<Figure size 432x288 with 1 Axes>"
      ]
     },
     "metadata": {},
     "output_type": "display_data"
    }
   ],
   "source": [
    "x_range = [90, 180]\n",
    "\n",
    "bp_range = np.arange(x_range[0], x_range[1], 0.1)\n",
    "outputs = model.predict_proba(prepare_inputs(bp_range))[:,1]\n",
    "\n",
    "plt.scatter(df['blood_pressure'], df['has_disease'])\n",
    "plt.xlabel('Blood Pressure')\n",
    "plt.ylabel('Has Disease')\n",
    "plt.yticks([0,1])\n",
    "plt.ylim([-0.5, 1.5])\n",
    "plt.xlim(x_range)\n",
    "plt.plot(bp_range, outputs, color='blue')\n",
    "\n",
    "plt.show()"
   ]
  },
  {
   "cell_type": "markdown",
   "metadata": {},
   "source": [
    "So this _S_-curve in our graph is the output of our function.  Why isn't it $0$ or $1$?  We interpret it as the _probability of being $1$_, because it's a number between 0 and 1 that tends toward 0 near the cluster of 0's in the input data, and toward 1 near the cluster of 1's in the input data.  \n",
    "\n",
    "So now the question is: what do we do with this?  Well, one thing you can do is to make a choice for a cutoff probability.  One obvious guess is 50\\%: if I'm at least 50\\% confident that the subject is a 1, I'll predict them to be a 1, otherwise they're a 0.  "
   ]
  },
  {
   "cell_type": "code",
   "execution_count": 7,
   "metadata": {},
   "outputs": [
    {
     "data": {
      "image/png": "[encoded data removed]",
      "text/plain": [
       "<Figure size 432x288 with 1 Axes>"
      ]
     },
     "metadata": {},
     "output_type": "display_data"
    }
   ],
   "source": [
    "# We want to figure out at which blood pressure value my model predicts 50%.  This is something \n",
    "# particular to Logistic Regression, you don't need to understand why this line works.\n",
    "cutoff_bp = -1 * model.intercept_[0] * DATA_STD / model.coef_[0] + DATA_MEAN\n",
    "\n",
    "## Old:\n",
    "plt.scatter(df['blood_pressure'], df['has_disease'])\n",
    "plt.xlabel('Blood Pressure')\n",
    "plt.ylabel('Has Disease')\n",
    "plt.yticks([0,1])\n",
    "plt.ylim([-0.5, 1.5])\n",
    "plt.xlim(x_range)\n",
    "\n",
    "## New:\n",
    "plt.plot(x_range, [0.5, 0.5], 'r--', linewidth=2, zorder=1)\n",
    "plt.text(x_range[1], 0.45, '50%', color='red')\n",
    "\n",
    "plt.plot([cutoff_bp, cutoff_bp], [-0.5, 1.5], 'g--', linewidth=2, zorder=1)\n",
    "plt.text(cutoff_bp + 2, 1.3, 'Prediction: 1 $\\longrightarrow$', color='green')\n",
    "plt.text(cutoff_bp - 2, 1.3, '$\\longleftarrow$ Prediction: 0', color='green', ha='right')\n",
    "plt.scatter([cutoff_bp], [0.5], s=100, zorder=2, color='green')\n",
    "\n",
    "## Old:\n",
    "plt.plot(bp_range, outputs, color='blue', zorder=1)\n",
    "\n",
    "plt.show()"
   ]
  },
  {
   "cell_type": "markdown",
   "metadata": {},
   "source": [
    "What you now see is that there are four quadrants of data points.  \n",
    "\n",
    "### Correct\n",
    "* In the top right corner are patients _with_ the disease that we successfully predicted _have_ the disease.  These are called **true positives**.\n",
    "* In the bottom left corner are patients _without_ the disease that we successfully predicted _do not have_ the disease.  These are called **true negatives**.\n",
    "\n",
    "### Incorrect\n",
    "* In the top left corner are patients _with_ the disease that we incorrectly predicted _do not have_ the disease.  These are called **false negatives**. (_Think:_ \"It's false that we predicted them to be negative\") \n",
    "* In the bottom right corner are patients _without_ the disease that we incorrectly predicted _have_ the disease.  These are called **false positives**. (_Think:_ \"It's false that we predicted them to be positive\") "
   ]
  },
  {
   "cell_type": "code",
   "execution_count": 8,
   "metadata": {},
   "outputs": [
    {
     "data": {
      "image/png": "[encoded data removed]",
      "text/plain": [
       "<Figure size 432x288 with 1 Axes>"
      ]
     },
     "metadata": {},
     "output_type": "display_data"
    }
   ],
   "source": [
    "df['prediction'] = model.predict(prepare_inputs(df['blood_pressure'].values))\n",
    "\n",
    "### For clarity's sake, let's split the data into its four categories, and then color them accordingly\n",
    "true_positives = df[(df['has_disease'] == 1) & (df['prediction'] == 1)]\n",
    "true_negatives = df[(df['has_disease'] == 0) & (df['prediction'] == 0)]\n",
    "false_negatives = df[(df['has_disease'] == 1) & (df['prediction'] == 0)]\n",
    "false_positives = df[(df['has_disease'] == 0) & (df['prediction'] == 1)]\n",
    "\n",
    "datasets = [\n",
    "    (true_positives, 'True Positives', 'blue', [cutoff_bp + 20, 1.3]),\n",
    "    (true_negatives, 'True Negatives', 'green', [x_range[0], -0.3]),\n",
    "    (false_negatives, 'False Negatives', 'red', [x_range[0], 1.3]),\n",
    "    (false_positives, 'False Positives', 'orange', [cutoff_bp + 20, -0.3])\n",
    "]\n",
    "\n",
    "for dataset, title, color, loc in datasets:\n",
    "    plt.scatter(dataset['blood_pressure'], dataset['has_disease'], c=color)\n",
    "    plt.text(loc[0], loc[1], title, color=color)\n",
    "    \n",
    "## Old:\n",
    "plt.xlabel('Blood Pressure')\n",
    "plt.ylabel('Has Disease')\n",
    "plt.yticks([0,1])\n",
    "plt.ylim([-0.5, 1.5])\n",
    "plt.xlim(x_range)\n",
    "\n",
    "plt.plot(x_range, [0.5, 0.5], 'k--', linewidth=2)\n",
    "plt.plot([cutoff_bp, cutoff_bp], [-0.5, 1.5], 'k--', linewidth=2)\n",
    "plt.plot(bp_range, outputs, color='blue')\n",
    "\n",
    "plt.show()"
   ]
  },
  {
   "cell_type": "markdown",
   "metadata": {},
   "source": [
    "One final caveat: Whether something _in the training data_ was predicted correctly or incorrectly is not as important as you might expect.  The real goal here is to minimize incorrect predictions in data _you haven't seen before_, which is much harder, and is the focus of a great deal of tools.  Nonetheless, we could calculate our **training accuracy score**: "
   ]
  },
  {
   "cell_type": "code",
   "execution_count": null,
   "metadata": {},
   "outputs": [],
   "source": [
    "print('Training Accuracy:', df[df['has_disease'] == df['prediction']].shape[0] / df.shape[0])"
   ]
  },
  {
   "cell_type": "markdown",
   "metadata": {},
   "source": [
    "Now, just because it's fun, let's turn all of the above code into a more interactive simulation.  Below I've bundled all the code up into a function with lots of parameters.  Try calling the function with various parameters to see what effect that has on your data and your model!"
   ]
  },
  {
   "cell_type": "code",
   "execution_count": null,
   "metadata": {},
   "outputs": [],
   "source": [
    "def create_and_test_data_and_model(\n",
    "    seed=14513, \n",
    "    num_samples=10, \n",
    "    noise=0.2,\n",
    "    standardize_data=True,\n",
    "):\n",
    "    ### Generate data and calculate statistics\n",
    "    df = generate_data(seed, num_samples=num_samples, noise=noise)\n",
    "    x_range = [df['blood_pressure'].min() - 10, df['blood_pressure'].max() + 10]\n",
    "    \n",
    "    data_mean = df['blood_pressure'].mean() if standardize_data else 0\n",
    "    data_std = df['blood_pressure'].std() if standardize_data else 1\n",
    "\n",
    "    def prepare_inputs(X):\n",
    "        X = X - data_mean\n",
    "        X = X / data_std\n",
    "        return X.reshape(-1, 1)\n",
    "\n",
    "    X = prepare_inputs(df['blood_pressure'].values)\n",
    "\n",
    "    ### Train model and make predictions\n",
    "    model = LogisticRegression()\n",
    "    model.fit(X, df['has_disease'])\n",
    "    \n",
    "    bp_range = np.arange(x_range[0], x_range[1], 0.1)\n",
    "    outputs = model.predict_proba(prepare_inputs(bp_range))[:,1]\n",
    "    \n",
    "    cutoff_bp = -1 * model.intercept_[0] * data_std / model.coef_[0] + data_mean\n",
    "    df['prediction'] = model.predict(prepare_inputs(df['blood_pressure'].values))\n",
    "\n",
    "    ### Split the data into its four categories\n",
    "    true_positives = df[(df['has_disease'] == 1) & (df['prediction'] == 1)]\n",
    "    true_negatives = df[(df['has_disease'] == 0) & (df['prediction'] == 0)]\n",
    "    false_negatives = df[(df['has_disease'] == 1) & (df['prediction'] == 0)]\n",
    "    false_positives = df[(df['has_disease'] == 0) & (df['prediction'] == 1)]\n",
    "\n",
    "    datasets = [\n",
    "        (true_positives, 'True Positives', 'blue', [cutoff_bp + 20, 1.3]),\n",
    "        (true_negatives, 'True Negatives', 'green', [x_range[0], -0.3]),\n",
    "        (false_negatives, 'False Negatives', 'red', [x_range[0], 1.3]),\n",
    "        (false_positives, 'False Positives', 'orange', [cutoff_bp + 20, -0.3])\n",
    "    ]\n",
    "\n",
    "    ### Create graph\n",
    "    for dataset, title, color, loc in datasets:\n",
    "        plt.scatter(dataset['blood_pressure'], dataset['has_disease'], c=color)\n",
    "        plt.text(loc[0], loc[1], title, color=color)\n",
    "\n",
    "    plt.xlabel('Blood Pressure')\n",
    "    plt.ylabel('Has Disease')\n",
    "    plt.yticks([0,1])\n",
    "    plt.ylim([-0.5, 1.5])\n",
    "    plt.xlim(x_range)\n",
    "\n",
    "    plt.plot(x_range, [0.5, 0.5], 'k--', linewidth=2)\n",
    "    plt.plot([cutoff_bp, cutoff_bp], [-0.5, 1.5], 'k--', linewidth=2)\n",
    "    plt.plot(bp_range, outputs, color='blue')\n",
    "\n",
    "    print('Training Accuracy:', df[df['has_disease'] == df['prediction']].shape[0] / df.shape[0])\n",
    "    plt.show()"
   ]
  },
  {
   "cell_type": "code",
   "execution_count": null,
   "metadata": {},
   "outputs": [],
   "source": [
    "create_and_test_data_and_model(\n",
    "    seed=None, \n",
    "    num_samples=100, \n",
    "    noise=0.15,\n",
    "    standardize_data=True,\n",
    ")"
   ]
  },
  {
   "cell_type": "code",
   "execution_count": null,
   "metadata": {},
   "outputs": [],
   "source": []
  }
 ],
 "metadata": {
  "kernelspec": {
   "display_name": "Python 3",
   "language": "python",
   "name": "python3"
  },
  "language_info": {
   "codemirror_mode": {
    "name": "ipython",
    "version": 3
   },
   "file_extension": ".py",
   "mimetype": "text/x-python",
   "name": "python",
   "nbconvert_exporter": "python",
   "pygments_lexer": "ipython3",
   "version": "3.8.5"
  }
 },
 "nbformat": 4,
 "nbformat_minor": 2
}
