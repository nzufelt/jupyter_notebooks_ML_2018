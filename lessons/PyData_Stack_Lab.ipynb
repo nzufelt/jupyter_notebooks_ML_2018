{
 "cells": [
  {
   "cell_type": "markdown",
   "metadata": {},
   "source": [
    "# The PyData Stack\n",
    "\n",
    "In this lab, you should analyze the famous [Boston Housing Dataset](http://scikit-learn.org/stable/modules/generated/sklearn.datasets.load_boston.html).  Here's what you should do:\n",
    "\n",
    "* Load the data into a DataFrame and determine the purpose of the dataset.\n",
    "* Determine some basic statistics about the features.  Is there any missing data?  How do you know?\n",
    "* Decide what all the features mean, and their type (hint: explore the stats of each, and the object returned by `load_boston` in the link above).\n",
    "* Graph histograms of a few appropriate features, and describe what you see.\n",
    "* Graph scatter plots of the numerical features against the median house price.  What do you take from these graphs?\n",
    "* Slice the dataset _horizontally_, that is, use boolean indexing to create a sub-DataFrame from your data.  You should find a way to slice it that does something nontrivial: describe why what you've done is interesting (take a look at some of our previous notebooks for examples).\n",
    "* Create another graph that justifies that the above is interesting.\n",
    "* Knowing that this datset is typically used in regression to predict the value of the house, slice the data _vertically_, that is, remove some columns that you believe are not helpful for this task.  Justify your reasoning (from the steps you've taken before this).\n",
    "* Throughout all of the above, discuss what you're seeing in markdown cells, and use markdown appropriately to create headers to break up the analysis.  It's okay if you're wrong or just confused/unsure about your observations--this lab is about experimentation and playfulness with data!"
   ]
  },
  {
   "cell_type": "code",
   "execution_count": null,
   "metadata": {
    "collapsed": true
   },
   "outputs": [],
   "source": []
  }
 ],
 "metadata": {
  "kernelspec": {
   "display_name": "Python 3",
   "language": "python",
   "name": "python3"
  },
  "language_info": {
   "codemirror_mode": {
    "name": "ipython",
    "version": 3
   },
   "file_extension": ".py",
   "mimetype": "text/x-python",
   "name": "python",
   "nbconvert_exporter": "python",
   "pygments_lexer": "ipython3",
   "version": "3.8.5"
  }
 },
 "nbformat": 4,
 "nbformat_minor": 2
}
