{
 "cells": [
  {
   "cell_type": "code",
   "execution_count": 1,
   "metadata": {},
   "outputs": [
    {
     "name": "stdout",
     "output_type": "stream",
     "text": [
      "25\n"
     ]
    }
   ],
   "source": [
    "f = lambda x: x**2\n",
    "\n",
    "# def f(x):\n",
    "#     return x**2\n",
    "\n",
    "print(f(5))"
   ]
  },
  {
   "cell_type": "markdown",
   "metadata": {},
   "source": [
    "In this notebook, I create a minimum working example for the `Variable` class of the Gradients Project. Let's first start with a single-input-variable version:"
   ]
  },
  {
   "cell_type": "code",
   "execution_count": 5,
   "metadata": {},
   "outputs": [],
   "source": [
    "class VariableSingleInput():\n",
    "    def __init__(self, evaluate=None) :\n",
    "        if evaluate == None:\n",
    "            self.evaluate = lambda value: value\n",
    "        else:\n",
    "            self.evaluate = evaluate\n",
    "        \n",
    "    def __add__(self, other):\n",
    "        if isinstance(other, (int, float)):\n",
    "            return VariableSingleInput(evaluate = lambda value: self.evaluate(value) + other)\n",
    "        \n",
    "        return VariableSingleInput(evaluate = lambda value: self.evaluate(value) + other.evaluate(value))\n",
    "        \n",
    "    def __radd__(self, other):\n",
    "        return self.__add__(other)\n"
   ]
  },
  {
   "cell_type": "markdown",
   "metadata": {},
   "source": [
    "Notice the use of `lambda` to define a function in one line. That makes it much easier than having an incredibly huge `evaluate` method with a ton of different `if`-`else` statements. It would be completely intractible to keep tract of.\n",
    "\n",
    "Let's test it out:"
   ]
  },
  {
   "cell_type": "code",
   "execution_count": 6,
   "metadata": {},
   "outputs": [
    {
     "name": "stdout",
     "output_type": "stream",
     "text": [
      "should be 4: 4\n",
      "should be 5: 5\n"
     ]
    }
   ],
   "source": [
    "x = VariableSingleInput()\n",
    "\n",
    "y = x + 3   # equivalent to running y = x.__add__(3)\n",
    "print(\"should be 4:\", y.evaluate(1))\n",
    "\n",
    "# This one proves that the evaluate method works\n",
    "z = y + x \n",
    "\n",
    "print(\"should be 5:\", z.evaluate(1))"
   ]
  },
  {
   "cell_type": "markdown",
   "metadata": {},
   "source": [
    "Now, I'll show how to make it take in multidimensional inputs. The key is to use a dictionary that has a \"name\" for every independent variable."
   ]
  },
  {
   "cell_type": "code",
   "execution_count": 31,
   "metadata": {},
   "outputs": [
    {
     "name": "stdout",
     "output_type": "stream",
     "text": [
      "should be 4: 4\n",
      "should be 7: 7\n"
     ]
    }
   ],
   "source": [
    "class Variable():\n",
    "    def __init__(self, name=None, evaluate=None):\n",
    "        if evaluate == None:\n",
    "            self.evaluate = lambda values: values[self.name]\n",
    "        else:\n",
    "            self.evaluate = evaluate\n",
    "            \n",
    "        if name != None:\n",
    "            self.name = name          # its key in the evaluation dictionary\n",
    "    \n",
    "    def __add__(self, other):\n",
    "        if isinstance(other, (int, float)):\n",
    "            return Variable(evaluate = lambda values: self.evaluate(values) + other)\n",
    "            \n",
    "        return Variable(evaluate = lambda values: self.evaluate(values) + other.evaluate(values))\n",
    "        \n",
    "x_1 = Variable(name=\"x_1\")\n",
    "x_2 = Variable(name=\"x_2\")\n",
    "\n",
    "y = x_1 + x_2    # equivalent to running y = x_1.__add__(x_2)\n",
    "print(\"should be 4:\", y.evaluate({\"x_1\": 1, \"x_2\": 3}))\n",
    "\n",
    "z = y + 2 + x_1 \n",
    "\n",
    "print(\"should be 7:\", z.evaluate({\"x_1\": 1, \"x_2\": 3}))"
   ]
  },
  {
   "cell_type": "code",
   "execution_count": 35,
   "metadata": {},
   "outputs": [
    {
     "name": "stdout",
     "output_type": "stream",
     "text": [
      "should be 4: 4\n",
      "should be 7: 7\n"
     ]
    }
   ],
   "source": [
    "# OOP Version\n",
    "\n",
    "class Variable():\n",
    "    def __init__(self, name=None):\n",
    "        if name != None:\n",
    "            self.name = name          # its key in the evaluation dictionary\n",
    "            \n",
    "    def evaluate(self, values):\n",
    "        \"\"\"\n",
    "        This is the evaluate function for independent variables\n",
    "        \"\"\"\n",
    "        return values[self.name]\n",
    "        \n",
    "    def __add__(self, other):\n",
    "        return AdditionVariable(self, other)\n",
    "    \n",
    "    \n",
    "\n",
    "class AdditionVariable(Variable):\n",
    "    def __init__(self, left, right):\n",
    "        self.left = left\n",
    "        self.right = right\n",
    "        \n",
    "    def evaluate(self, values):\n",
    "        if isinstance(self.left, (float, int)):\n",
    "            return self.right.evaluate(values) + self.left\n",
    "        \n",
    "        if isinstance(self.right, (float, int)):\n",
    "            return self.left.evaluate(values) + self.right\n",
    "            \n",
    "        return self.left.evaluate(values) + self.right.evaluate(values)\n",
    "    \n",
    "\n",
    "x_1 = Variable(name=\"x_1\")\n",
    "x_2 = Variable(name=\"x_2\")\n",
    "\n",
    "y = x_1 + x_2    # equivalent to running y = x_1.__add__(x_2)\n",
    "print(\"should be 4:\", y.evaluate({\"x_1\": 1, \"x_2\": 3}))\n",
    "\n",
    "z = (y + 2) + x_1  # (y + 2).__add__(x_1)\n",
    "\n",
    "print(\"should be 7:\", z.evaluate({\"x_1\": 1, \"x_2\": 3}))"
   ]
  },
  {
   "cell_type": "code",
   "execution_count": null,
   "metadata": {},
   "outputs": [],
   "source": []
  },
  {
   "cell_type": "code",
   "execution_count": null,
   "metadata": {},
   "outputs": [],
   "source": []
  },
  {
   "cell_type": "code",
   "execution_count": null,
   "metadata": {},
   "outputs": [],
   "source": []
  },
  {
   "cell_type": "code",
   "execution_count": null,
   "metadata": {},
   "outputs": [],
   "source": []
  },
  {
   "cell_type": "code",
   "execution_count": null,
   "metadata": {},
   "outputs": [],
   "source": []
  },
  {
   "cell_type": "code",
   "execution_count": null,
   "metadata": {},
   "outputs": [],
   "source": []
  },
  {
   "cell_type": "code",
   "execution_count": null,
   "metadata": {},
   "outputs": [],
   "source": []
  },
  {
   "cell_type": "code",
   "execution_count": null,
   "metadata": {},
   "outputs": [],
   "source": []
  },
  {
   "cell_type": "code",
   "execution_count": null,
   "metadata": {},
   "outputs": [],
   "source": []
  },
  {
   "cell_type": "code",
   "execution_count": null,
   "metadata": {},
   "outputs": [],
   "source": []
  },
  {
   "cell_type": "code",
   "execution_count": null,
   "metadata": {},
   "outputs": [],
   "source": []
  },
  {
   "cell_type": "code",
   "execution_count": null,
   "metadata": {},
   "outputs": [],
   "source": []
  },
  {
   "cell_type": "code",
   "execution_count": null,
   "metadata": {},
   "outputs": [],
   "source": []
  },
  {
   "cell_type": "markdown",
   "metadata": {},
   "source": [
    "## The OOP Version"
   ]
  },
  {
   "cell_type": "code",
   "execution_count": 28,
   "metadata": {},
   "outputs": [
    {
     "name": "stdout",
     "output_type": "stream",
     "text": [
      "4\n",
      "15\n"
     ]
    }
   ],
   "source": [
    "class VariableOOP():    \n",
    "    def __init__(self, name=None):            \n",
    "        self.name = name          # its key in the evaluation dictionary, if it exists\n",
    "        \n",
    "    def evaluate(self, values):\n",
    "        \"\"\"\n",
    "        This is the version for independent variables. Override this for other node types\n",
    "        \"\"\"\n",
    "        return values[self.name]\n",
    "    \n",
    "    def __add__(self, other):\n",
    "        return AdditionVariableOOP(left=self, right=other)\n",
    "    \n",
    "class AdditionVariableOOP(VariableOOP):\n",
    "    def __init__(self, name=None, left=None, right=None):\n",
    "        \"\"\"\n",
    "        name should always be \"None\" here, because these aren't independent variables\n",
    "        \"\"\"\n",
    "        self.left = left\n",
    "        self.right = right\n",
    "        \n",
    "    def evaluate(self, values):\n",
    "        if isinstance(self.left, (int, float)):\n",
    "            left = self.left\n",
    "        else:\n",
    "            left = self.left.evaluate(values)\n",
    "        \n",
    "        if isinstance(self.right, (int, float)):\n",
    "            right = self.right\n",
    "        else:\n",
    "            right = self.right.evaluate(values)\n",
    "        \n",
    "        return left + right\n",
    "\n",
    "x_1 = VariableOOP(name = \"x_1\")\n",
    "y = x_1 + 3\n",
    "\n",
    "print(y.evaluate({\"x_1\": 1}))\n",
    "\n",
    "x_2 = VariableOOP(name = \"x_2\")\n",
    "z = (x_1 + y) + x_2\n",
    "\n",
    "print(z.evaluate({\"x_1\": 3, \"x_2\": 6}))"
   ]
  },
  {
   "cell_type": "code",
   "execution_count": 29,
   "metadata": {},
   "outputs": [
    {
     "name": "stdout",
     "output_type": "stream",
     "text": [
      "4\n",
      "15\n",
      "[2. 1.]\n"
     ]
    }
   ],
   "source": [
    "class VariableOOP():\n",
    "    number_of_independent_variables = 0      # This is needed to create gradients\n",
    "    \n",
    "    def __init__(self, name=None):            \n",
    "        self.name = name          # its key in the evaluation dictionary, if it exists\n",
    "        if name != None:\n",
    "            self.position = VariableOOP.number_of_independent_variables\n",
    "            VariableOOP.number_of_independent_variables += 1\n",
    "        \n",
    "    def evaluate(self, values):\n",
    "        \"\"\"\n",
    "        This is the version for independent variables. Override this for other node types\n",
    "        \"\"\"\n",
    "        return values[self.name]\n",
    "    \n",
    "    def gradient(self, values):\n",
    "        \"\"\"\n",
    "        This is the version for independent variables. Override this for other node types\n",
    "        \"\"\"\n",
    "        output = np.zeros(VariableOOP.number_of_independent_variables)\n",
    "        output[self.position] = 1\n",
    "        return output\n",
    "    \n",
    "    def __add__(self, other):\n",
    "        return AdditionVariableOOP(left=self, right=other)\n",
    "    \n",
    "class AdditionVariableOOP(VariableOOP):\n",
    "    def __init__(self, name=None, left=None, right=None):\n",
    "        \"\"\"\n",
    "        name should always be \"None\" here, because these aren't independent variables\n",
    "        \"\"\"\n",
    "        self.left = left\n",
    "        self.right = right\n",
    "        \n",
    "    def evaluate(self, values):\n",
    "        if isinstance(self.left, (int, float)):\n",
    "            left = self.left\n",
    "        else:\n",
    "            left = self.left.evaluate(values)\n",
    "        \n",
    "        if isinstance(self.right, (int, float)):\n",
    "            right = self.right\n",
    "        else:\n",
    "            right = self.right.evaluate(values)\n",
    "        \n",
    "        return left + right\n",
    "    \n",
    "    def gradient(self, values):\n",
    "        if isinstance(self.left, (int, float)):\n",
    "            return self.right.gradient(values)\n",
    "        elif isinstance(self.right, (int, float)):\n",
    "            return self.left.gradient(values)\n",
    "        \n",
    "        return self.left.gradient(values) + self.right.gradient(values)\n",
    "    \n",
    "\n",
    "x_1 = VariableOOP(name = \"x_1\")\n",
    "y = x_1 + 3\n",
    "\n",
    "print(y.evaluate({\"x_1\": 1}))\n",
    "\n",
    "x_2 = VariableOOP(name = \"x_2\")\n",
    "z = (x_1 + y) + x_2\n",
    "\n",
    "print(z.evaluate({\"x_1\": 3, \"x_2\": 6}))\n",
    "print(z.gradient({\"x_1\": 3, \"x_2\": 6}))"
   ]
  },
  {
   "cell_type": "code",
   "execution_count": null,
   "metadata": {},
   "outputs": [],
   "source": []
  }
 ],
 "metadata": {
  "kernelspec": {
   "display_name": "Python 3",
   "language": "python",
   "name": "python3"
  },
  "language_info": {
   "codemirror_mode": {
    "name": "ipython",
    "version": 3
   },
   "file_extension": ".py",
   "mimetype": "text/x-python",
   "name": "python",
   "nbconvert_exporter": "python",
   "pygments_lexer": "ipython3",
   "version": "3.8.5"
  }
 },
 "nbformat": 4,
 "nbformat_minor": 4
}
