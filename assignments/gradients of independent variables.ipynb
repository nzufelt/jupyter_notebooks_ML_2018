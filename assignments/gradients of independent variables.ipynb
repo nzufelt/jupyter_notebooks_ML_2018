{
 "cells": [
  {
   "cell_type": "markdown",
   "metadata": {},
   "source": [
    "Recall that the gradient of the $i^{th}$ independent variable is a vector that has a 1 in the $i^{th}$ spot, and 0's everywhere else. Thus, if we had 4 independent variables, then \n",
    "$$\\nabla x_2  = \\left<0,1,0,0\\right>$$\n",
    "\n",
    "How might we compute that?"
   ]
  },
  {
   "cell_type": "code",
   "execution_count": 8,
   "metadata": {},
   "outputs": [
    {
     "name": "stdout",
     "output_type": "stream",
     "text": [
      "Variable number 2 of 3\n"
     ]
    }
   ],
   "source": [
    "class Variable():\n",
    "    num_of_variables = 0\n",
    "    \n",
    "    def __init__(self, grad=None):\n",
    "        if grad == None:\n",
    "            Variable.num_of_variables += 1\n",
    "            self.current = Variable.num_of_variables\n",
    "            \n",
    "    def print_numbers(self):\n",
    "        print(\"Variable number {} of {}\".format(self.current, Variable.num_of_variables))\n",
    "        \n",
    "        \n",
    "x_1 = Variable()\n",
    "x_2 = Variable()\n",
    "\n",
    "y = Variable(grad = lambda x: \"Some function\")\n",
    "\n",
    "x_3 = Variable()\n",
    "\n",
    "x_2.print_numbers()"
   ]
  },
  {
   "cell_type": "code",
   "execution_count": 7,
   "metadata": {},
   "outputs": [
    {
     "name": "stdout",
     "output_type": "stream",
     "text": [
      "[0, 1, 0, 0]\n",
      "[0 1 0 0]\n"
     ]
    }
   ],
   "source": [
    "import numpy as np\n",
    "\n",
    "total = 4\n",
    "current = 2\n",
    "\n",
    "output = [0] * total\n",
    "output[current - 1] = 1\n",
    "print(output)\n",
    "\n",
    "print(np.array(output))"
   ]
  },
  {
   "cell_type": "code",
   "execution_count": null,
   "metadata": {},
   "outputs": [],
   "source": []
  }
 ],
 "metadata": {
  "kernelspec": {
   "display_name": "Python 3",
   "language": "python",
   "name": "python3"
  },
  "language_info": {
   "codemirror_mode": {
    "name": "ipython",
    "version": 3
   },
   "file_extension": ".py",
   "mimetype": "text/x-python",
   "name": "python",
   "nbconvert_exporter": "python",
   "pygments_lexer": "ipython3",
   "version": "3.8.5"
  }
 },
 "nbformat": 4,
 "nbformat_minor": 4
}
